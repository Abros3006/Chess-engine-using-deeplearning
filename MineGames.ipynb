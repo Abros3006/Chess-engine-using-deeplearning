{
 "cells": [
  {
   "cell_type": "code",
   "execution_count": 11,
   "id": "13e3a7d0",
   "metadata": {},
   "outputs": [
    {
     "ename": "NameError",
     "evalue": "name 'Stockfish' is not defined",
     "output_type": "error",
     "traceback": [
      "\u001b[1;31m---------------------------------------------------------------------------\u001b[0m",
      "\u001b[1;31mNameError\u001b[0m                                 Traceback (most recent call last)",
      "Cell \u001b[1;32mIn[11], line 2\u001b[0m\n\u001b[0;32m      1\u001b[0m \u001b[38;5;28;01mimport\u001b[39;00m \u001b[38;5;21;01mchess\u001b[39;00m\n\u001b[1;32m----> 2\u001b[0m stockfish \u001b[38;5;241m=\u001b[39m \u001b[43mStockfish\u001b[49m(path\u001b[38;5;241m=\u001b[39m\u001b[38;5;124mr\u001b[39m\u001b[38;5;124m\"\u001b[39m\u001b[38;5;124mC:\u001b[39m\u001b[38;5;124m\\\u001b[39m\u001b[38;5;124mProjects\u001b[39m\u001b[38;5;124m\\\u001b[39m\u001b[38;5;124monGoing\u001b[39m\u001b[38;5;124m\\\u001b[39m\u001b[38;5;124mChess engine using deeplearning\u001b[39m\u001b[38;5;124m\\\u001b[39m\u001b[38;5;124mstockfish\u001b[39m\u001b[38;5;124m\\\u001b[39m\u001b[38;5;124mstockfish-windows-x86-64-avx2.exe\u001b[39m\u001b[38;5;124m\"\u001b[39m)\n\u001b[0;32m      3\u001b[0m \u001b[38;5;28;01mfrom\u001b[39;00m \u001b[38;5;21;01mstockfish\u001b[39;00m \u001b[38;5;28;01mimport\u001b[39;00m Stockfish\n\u001b[0;32m      4\u001b[0m \u001b[38;5;28;01mimport\u001b[39;00m \u001b[38;5;21;01mrandom\u001b[39;00m\n",
      "\u001b[1;31mNameError\u001b[0m: name 'Stockfish' is not defined"
     ]
    }
   ],
   "source": [
    "import chess\n",
    "from stockfish import Stockfish\n",
    "stockfish = Stockfish(path=r\"C:\\Projects\\onGoing\\Chess-engine-using-deeplearning\\stockfish\\stockfish-windows-x86-64-avx2.exe\")\n",
    "import random\n",
    "from pprint import pprint\n",
    "import numpy as np\n",
    "import os\n",
    "import glob\n",
    "import time"
   ]
  },
  {
   "cell_type": "code",
   "execution_count": 37,
   "id": "c7eddfd6",
   "metadata": {},
   "outputs": [
    {
     "data": {
      "text/plain": [
       "True"
      ]
     },
     "execution_count": 37,
     "metadata": {},
     "output_type": "execute_result"
    }
   ],
   "source": [
    "#test checkmate:\n",
    "board = chess.Board()\n",
    "board.push_san(\"e4\")\n",
    "board.push_san(\"e5\")\n",
    "board.push_san(\"Qh5\")\n",
    "board.push_san(\"Nc6\")\n",
    "board.push_san(\"Bc4\")\n",
    "board.push_san(\"Nf6\")\n",
    "board.push_san(\"Qxf7\")\n",
    "board.is_checkmate()\n",
    "# board"
   ]
  },
  {
   "cell_type": "code",
   "execution_count": 38,
   "id": "8722df43",
   "metadata": {},
   "outputs": [
    {
     "data": {
      "text/plain": [
       "'e2e4'"
      ]
     },
     "execution_count": 38,
     "metadata": {},
     "output_type": "execute_result"
    }
   ],
   "source": [
    "stockfish.get_best_move()\n"
   ]
  },
  {
   "cell_type": "code",
   "execution_count": 39,
   "id": "1f50270f",
   "metadata": {},
   "outputs": [],
   "source": [
    "def fen_to_board(fen):\n",
    "    board = []\n",
    "    for row in fen.split('/'):\n",
    "        brow = []\n",
    "        for c in row:\n",
    "            if c == ' ':\n",
    "                break\n",
    "            elif c in '12345678':\n",
    "                brow.extend( ['--'] * int(c) )\n",
    "            elif c == 'p':\n",
    "                brow.append( 'bp' )\n",
    "            elif c == 'P':\n",
    "                brow.append( 'wp' )\n",
    "            elif c > 'Z':\n",
    "                brow.append( 'b'+c.upper() )\n",
    "            else:\n",
    "                brow.append( 'w'+c )\n",
    "\n",
    "        board.append( brow )\n",
    "    return board"
   ]
  },
  {
   "cell_type": "code",
   "execution_count": 16,
   "id": "2658095a",
   "metadata": {},
   "outputs": [],
   "source": [
    "#helper functions:\n",
    "def checkEndCondition(board):\n",
    " if (board.is_checkmate() or board.is_stalemate() or board.is_insufficient_material() or board.can_claim_threefold_repetition() or board.can_claim_fifty_moves() or board.can_claim_draw()):\n",
    "  return True\n",
    " return False\n",
    "\n",
    "#save\n",
    "def findNextIdx():\n",
    " files = (glob.glob(r\"C:\\Users\\athar\\Chess engine using imitation learning\\data\\rawData\\*.npy\"))\n",
    " if (len(files) == 0):\n",
    "  return 1 #if no files, return 1\n",
    " highestIdx = 0\n",
    " for f in files:\n",
    "  file = f\n",
    "  currIdx = file.split(\"movesAndPositions\")[-1].split(\".npy\")[0]\n",
    "  highestIdx = max(highestIdx, int(currIdx))\n",
    "\n",
    " return int(highestIdx)+1\n",
    "\n",
    "def saveData(moves, positions):\n",
    " moves = np.array(moves).reshape(-1, 1)\n",
    " positions = np.array(positions).reshape(-1,1)\n",
    " movesAndPositions = np.concatenate((moves, positions), axis = 1)\n",
    " nextIdx = findNextIdx()\n",
    " np.save(f\"data/rawData/movesAndPositions{nextIdx}.npy\", movesAndPositions)\n",
    " print(\"Saved successfully\")\n",
    "\n",
    "def runGame(numMoves, filename = \"movesAndPositions1.npy\"):\n",
    " \"\"\"run a game you stored\"\"\"\n",
    " testing = np.load(f\"data/rawData/{filename}\")\n",
    " moves = testing[:, 0]\n",
    " if (numMoves > len(moves)):\n",
    "  print(\"Must enter a lower number of moves than maximum game length. Game length here is: \", len(moves))\n",
    "  return\n",
    "\n",
    " testBoard = chess.Board()\n",
    "\n",
    " for i in range(numMoves):\n",
    "  move = moves[i]\n",
    "  testBoard.push_san(move)\n",
    " return testBoard"
   ]
  },
  {
   "cell_type": "code",
   "execution_count": 17,
   "id": "27a132af",
   "metadata": {},
   "outputs": [],
   "source": [
    "def mineGames(numGames : int):\n",
    "    \"\"\"mines numGames games of moves\"\"\"\n",
    "    MAX_MOVES = 50 #don't continue games after this number\n",
    "\n",
    "    for i in range(numGames):\n",
    "        currentGameMoves = []\n",
    "        currentGamePositions = []\n",
    "        board = chess.Board()\n",
    "        stockfish.set_position([])\n",
    "\n",
    "        for i in range(MAX_MOVES):\n",
    "            #randomly choose from those 3 moves\n",
    "            moves = stockfish.get_top_moves(3)\n",
    "            #if less than 3 moves available, choose first one, if none available, exit\n",
    "            if (len(moves) == 0):\n",
    "                print(\"game is over\")\n",
    "                break\n",
    "            elif (len(moves) == 1):\n",
    "                move = moves[0][\"Move\"]\n",
    "            elif (len(moves) == 2):\n",
    "                move = random.choices(moves, weights=(80, 20), k=1)[0][\"Move\"]\n",
    "            else:\n",
    "                move = random.choices(moves, weights=(80, 15, 5), k=1)[0][\"Move\"]\n",
    "\n",
    "            currentGamePositions.append(stockfish.get_fen_position())\n",
    "            currentGameMoves.append(move) #make sure to add str version of move before changing format\n",
    "            move = chess.Move.from_uci(str(move)) #convert to format chess package likes\n",
    "            board.push(move)\n",
    "            stockfish.set_position(currentGameMoves)\n",
    "            if (checkEndCondition(board)):\n",
    "                print(\"game is over\")\n",
    "                break\n",
    "        saveData(currentGameMoves, currentGamePositions)"
   ]
  },
  {
   "cell_type": "code",
   "execution_count": 19,
   "id": "b4aaf4dd",
   "metadata": {},
   "outputs": [
    {
     "name": "stdout",
     "output_type": "stream",
     "text": [
      "Saved successfully\n",
      "Saved successfully\n",
      "Saved successfully\n",
      "Saved successfully\n",
      "Saved successfully\n"
     ]
    }
   ],
   "source": [
    "mineGames(5)"
   ]
  },
  {
   "cell_type": "code",
   "execution_count": 21,
   "id": "4ff5c4d9",
   "metadata": {},
   "outputs": [
    {
     "ename": "ValueError",
     "evalue": "illegal san: 'b1c3' in rnbqkbnr/pp1ppppp/8/2p5/4P3/8/PPPP1PPP/RNBQKBNR w KQkq - 0 2",
     "output_type": "error",
     "traceback": [
      "\u001b[1;31m---------------------------------------------------------------------------\u001b[0m",
      "\u001b[1;31mValueError\u001b[0m                                Traceback (most recent call last)",
      "\u001b[1;32m~\\AppData\\Local\\Temp\\ipykernel_3972\\297618757.py\u001b[0m in \u001b[0;36m<module>\u001b[1;34m\u001b[0m\n\u001b[1;32m----> 1\u001b[1;33m \u001b[0mtestBoard\u001b[0m \u001b[1;33m=\u001b[0m \u001b[0mrunGame\u001b[0m\u001b[1;33m(\u001b[0m\u001b[1;36m12\u001b[0m\u001b[1;33m,\u001b[0m \u001b[1;34m\"movesAndPositions5.npy\"\u001b[0m\u001b[1;33m)\u001b[0m\u001b[1;33m\u001b[0m\u001b[1;33m\u001b[0m\u001b[0m\n\u001b[0m\u001b[0;32m      2\u001b[0m \u001b[0mtestBoard\u001b[0m\u001b[1;33m\u001b[0m\u001b[1;33m\u001b[0m\u001b[0m\n",
      "\u001b[1;32m~\\AppData\\Local\\Temp\\ipykernel_3972\\2498420340.py\u001b[0m in \u001b[0;36mrunGame\u001b[1;34m(numMoves, filename)\u001b[0m\n\u001b[0;32m     38\u001b[0m  \u001b[1;32mfor\u001b[0m \u001b[0mi\u001b[0m \u001b[1;32min\u001b[0m \u001b[0mrange\u001b[0m\u001b[1;33m(\u001b[0m\u001b[0mnumMoves\u001b[0m\u001b[1;33m)\u001b[0m\u001b[1;33m:\u001b[0m\u001b[1;33m\u001b[0m\u001b[1;33m\u001b[0m\u001b[0m\n\u001b[0;32m     39\u001b[0m   \u001b[0mmove\u001b[0m \u001b[1;33m=\u001b[0m \u001b[0mmoves\u001b[0m\u001b[1;33m[\u001b[0m\u001b[0mi\u001b[0m\u001b[1;33m]\u001b[0m\u001b[1;33m\u001b[0m\u001b[1;33m\u001b[0m\u001b[0m\n\u001b[1;32m---> 40\u001b[1;33m   \u001b[0mtestBoard\u001b[0m\u001b[1;33m.\u001b[0m\u001b[0mpush_san\u001b[0m\u001b[1;33m(\u001b[0m\u001b[0mmove\u001b[0m\u001b[1;33m)\u001b[0m\u001b[1;33m\u001b[0m\u001b[1;33m\u001b[0m\u001b[0m\n\u001b[0m\u001b[0;32m     41\u001b[0m  \u001b[1;32mreturn\u001b[0m \u001b[0mtestBoard\u001b[0m\u001b[1;33m\u001b[0m\u001b[1;33m\u001b[0m\u001b[0m\n",
      "\u001b[1;32m~\\anaconda3\\lib\\site-packages\\chess\\__init__.py\u001b[0m in \u001b[0;36mpush_san\u001b[1;34m(self, san)\u001b[0m\n\u001b[0;32m   2843\u001b[0m         \u001b[1;33m:\u001b[0m\u001b[0mraises\u001b[0m\u001b[1;33m:\u001b[0m \u001b[1;33m:\u001b[0m\u001b[0mexc\u001b[0m\u001b[1;33m:\u001b[0m\u001b[0;31m`\u001b[0m\u001b[0mValueError\u001b[0m\u001b[0;31m`\u001b[0m \u001b[1;32mif\u001b[0m \u001b[0mneither\u001b[0m \u001b[0mlegal\u001b[0m \u001b[0mnor\u001b[0m \u001b[0ma\u001b[0m \u001b[0mnull\u001b[0m \u001b[0mmove\u001b[0m\u001b[1;33m.\u001b[0m\u001b[1;33m\u001b[0m\u001b[1;33m\u001b[0m\u001b[0m\n\u001b[0;32m   2844\u001b[0m         \"\"\"\n\u001b[1;32m-> 2845\u001b[1;33m         \u001b[0mmove\u001b[0m \u001b[1;33m=\u001b[0m \u001b[0mself\u001b[0m\u001b[1;33m.\u001b[0m\u001b[0mparse_san\u001b[0m\u001b[1;33m(\u001b[0m\u001b[0msan\u001b[0m\u001b[1;33m)\u001b[0m\u001b[1;33m\u001b[0m\u001b[1;33m\u001b[0m\u001b[0m\n\u001b[0m\u001b[0;32m   2846\u001b[0m         \u001b[0mself\u001b[0m\u001b[1;33m.\u001b[0m\u001b[0mpush\u001b[0m\u001b[1;33m(\u001b[0m\u001b[0mmove\u001b[0m\u001b[1;33m)\u001b[0m\u001b[1;33m\u001b[0m\u001b[1;33m\u001b[0m\u001b[0m\n\u001b[0;32m   2847\u001b[0m         \u001b[1;32mreturn\u001b[0m \u001b[0mmove\u001b[0m\u001b[1;33m\u001b[0m\u001b[1;33m\u001b[0m\u001b[0m\n",
      "\u001b[1;32m~\\anaconda3\\lib\\site-packages\\chess\\__init__.py\u001b[0m in \u001b[0;36mparse_san\u001b[1;34m(self, san)\u001b[0m\n\u001b[0;32m   2830\u001b[0m \u001b[1;33m\u001b[0m\u001b[0m\n\u001b[0;32m   2831\u001b[0m         \u001b[1;32mif\u001b[0m \u001b[1;32mnot\u001b[0m \u001b[0mmatched_move\u001b[0m\u001b[1;33m:\u001b[0m\u001b[1;33m\u001b[0m\u001b[1;33m\u001b[0m\u001b[0m\n\u001b[1;32m-> 2832\u001b[1;33m             \u001b[1;32mraise\u001b[0m \u001b[0mValueError\u001b[0m\u001b[1;33m(\u001b[0m\u001b[1;34mf\"illegal san: {san!r} in {self.fen()}\"\u001b[0m\u001b[1;33m)\u001b[0m\u001b[1;33m\u001b[0m\u001b[1;33m\u001b[0m\u001b[0m\n\u001b[0m\u001b[0;32m   2833\u001b[0m \u001b[1;33m\u001b[0m\u001b[0m\n\u001b[0;32m   2834\u001b[0m         \u001b[1;32mreturn\u001b[0m \u001b[0mmatched_move\u001b[0m\u001b[1;33m\u001b[0m\u001b[1;33m\u001b[0m\u001b[0m\n",
      "\u001b[1;31mValueError\u001b[0m: illegal san: 'b1c3' in rnbqkbnr/pp1ppppp/8/2p5/4P3/8/PPPP1PPP/RNBQKBNR w KQkq - 0 2"
     ]
    }
   ],
   "source": [
    "testBoard = runGame(12, \"movesAndPositions5.npy\")\n",
    "testBoard"
   ]
  },
  {
   "cell_type": "code",
   "execution_count": null,
   "id": "493845c5",
   "metadata": {},
   "outputs": [],
   "source": []
  }
 ],
 "metadata": {
  "kernelspec": {
   "display_name": "Python 3 (ipykernel)",
   "language": "python",
   "name": "python3"
  },
  "language_info": {
   "codemirror_mode": {
    "name": "ipython",
    "version": 3
   },
   "file_extension": ".py",
   "mimetype": "text/x-python",
   "name": "python",
   "nbconvert_exporter": "python",
   "pygments_lexer": "ipython3",
   "version": "3.9.13"
  }
 },
 "nbformat": 4,
 "nbformat_minor": 5
}
